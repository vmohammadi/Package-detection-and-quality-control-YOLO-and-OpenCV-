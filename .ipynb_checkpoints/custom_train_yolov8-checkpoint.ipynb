{
 "cells": [
  {
   "cell_type": "code",
   "execution_count": null,
   "id": "c95c05ba-9f08-401f-8f5c-7ff3f227caab",
   "metadata": {},
   "outputs": [],
   "source": [
    "!pip install ultralytics"
   ]
  },
  {
   "cell_type": "code",
   "execution_count": null,
   "id": "d4958f83-2113-4ffa-8bce-d549976033c7",
   "metadata": {},
   "outputs": [],
   "source": [
    "import os\n",
    "\n",
    "base_path = \"C:/Users/Vahid/Documents/Jupyter/custom_yolov8/dataset_for_yolo\"\n",
    "print(\"YAML exists:\", os.path.exists(f\"{base_path}/dataset.yaml\"))  # Should return True\n",
    "print(\"Train images exist:\", os.path.exists(f\"{base_path}/images/train\"))  # Should return True\n",
    "print(\"Val images exist:\", os.path.exists(f\"{base_path}/images/val\"))  # Should return True"
   ]
  },
  {
   "cell_type": "code",
   "execution_count": null,
   "id": "20ecd39f-80d6-4c9a-a3b9-7d0f505352b3",
   "metadata": {},
   "outputs": [],
   "source": [
    "from ultralytics import YOLO\n",
    "\n",
    "model = YOLO(\"yolov8n.pt\")\n",
    "model.train(data=\"C:/Users/Vahid/Documents/Jupyter/custom_yolov8/dataset_for_yolo/dataset.yaml\", epochs=50, device=\"cpu\")"
   ]
  },
  {
   "cell_type": "code",
   "execution_count": 19,
   "id": "6cdf9d93-1506-418f-baf8-71393af5f12a",
   "metadata": {},
   "outputs": [],
   "source": [
    "import cv2\n",
    "import numpy as np\n",
    "\n",
    "# Test the network with a sample image \n",
    "# Load the original image\n",
    "image_path = \"C:/Users/Vahid/Documents/Jupyter/custom_yolov8/dataset_for_yolo/images/test/0101069901524_side.png\"\n",
    "image = cv2.imread(image_path)\n",
    "\n",
    "# Get image dimensions\n",
    "height, width = image.shape[:2]\n",
    "\n",
    "# Draw rectangles for each detection\n",
    "for result in results:\n",
    "    for box in result.boxes:\n",
    "        # Get bounding box coordinates\n",
    "        x1, y1, x2, y2 = box.xyxy[0].tolist()\n",
    "        \n",
    "        # Convert to integers\n",
    "        x1, y1, x2, y2 = int(x1), int(y1), int(x2), int(y2)\n",
    "        \n",
    "        # Draw green rectangle (BGR format)\n",
    "        cv2.rectangle(image, (x1, y1), (x2, y2), (0, 255, 0), 2)  # Green color, thickness=2\n",
    "        \n",
    "        # Add label and confidence\n",
    "        conf = box.conf[0].item()\n",
    "        cls = box.cls[0].item()\n",
    "        label = f\"{result.names[int(cls)]} {conf:.2f}\"\n",
    "        \n",
    "        # Put text above the rectangle\n",
    "        cv2.putText(image, label, (x1, y1-10), cv2.FONT_HERSHEY_SIMPLEX, 0.5, (0, 255, 0), 1)\n",
    "\n",
    "# Save or display the result\n",
    "# output_path = \"C:/Users/Vahid/Documents/Jupyter/custom_yolov8/dataset_for_yolo/images/test/detected_0101069901524_side.png\"\n",
    "# cv2.imwrite(output_path, image)\n",
    "\n",
    "# To display the image\n",
    "cv2.imshow(\"Detection\", image)\n",
    "cv2.waitKey(0)\n",
    "cv2.destroyAllWindows()"
   ]
  },
  {
   "cell_type": "code",
   "execution_count": null,
   "id": "5649e032-6abe-4ad5-a079-e4188c337e75",
   "metadata": {},
   "outputs": [],
   "source": [
    "## Saving Trained Model\n",
    "# After training, YOLO (v5/v8) automatically saves the best model as:\n",
    "\n",
    "# YOLOv8: runs/detect/train/weights/best.pt"
   ]
  },
  {
   "cell_type": "markdown",
   "id": "e595515a-b539-4b05-84b2-7555d057363a",
   "metadata": {},
   "source": [
    "![My Image](test.png)"
   ]
  },
  {
   "cell_type": "code",
   "execution_count": null,
   "id": "cb77c37d-8f88-4053-880a-43be8a8ef418",
   "metadata": {},
   "outputs": [],
   "source": []
  }
 ],
 "metadata": {
  "kernelspec": {
   "display_name": "Python 3 (ipykernel)",
   "language": "python",
   "name": "python3"
  },
  "language_info": {
   "codemirror_mode": {
    "name": "ipython",
    "version": 3
   },
   "file_extension": ".py",
   "mimetype": "text/x-python",
   "name": "python",
   "nbconvert_exporter": "python",
   "pygments_lexer": "ipython3",
   "version": "3.11.7"
  }
 },
 "nbformat": 4,
 "nbformat_minor": 5
}
